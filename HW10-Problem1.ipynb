{
 "cells": [
  {
   "cell_type": "code",
   "execution_count": 20,
   "metadata": {},
   "outputs": [
    {
     "name": "stdout",
     "output_type": "stream",
     "text": [
      "area enclosed by data points=28.972\n"
     ]
    },
    {
     "data": {
      "image/png": "[encoded data removed]",
      "text/plain": [
       "<matplotlib.figure.Figure at 0x1819ffea90>"
      ]
     },
     "metadata": {},
     "output_type": "display_data"
    }
   ],
   "source": [
    "from matplotlib import pyplot as plt\n",
    "import numpy as np\n",
    "import scipy.interpolate\n",
    "from scipy.integrate import simps\n",
    "\n",
    "x = [0.9,1.3,1.9,2.1,2.6,3.0,3.9,4.4,4.7,5.0,6.0,7.0,8.0,9.2,10.5,11.3,11.6,12.0,12.6,13.0,13.3,13.0,12.6,12.3,12.0,11.5,11.0,10.8,10.7,10.5,10.0,9.5,9.0,8.8,8.6,8.5,8.4,8.2,8.1,7.8,7.6,7.3,7.0,6.6,6.1,5.6,5.6,5.3,5.0,4.7,4.4,4.3,4.0,3.5,3.0,2.5,2.3,2.2,2.0,1.6,1.2,1.0,0.9,0.8]\n",
    "y = [1.3,1.5,1.85,2.1,2.6,2.7,2.4,2.15,2.05,2.1,2.25,2.3,2.25,1.95,1.4,0.9,0.7,0.6,0.5,0.4,0.25,0.15,0.1,0.05,0.0,-0.05,-0.05,-0.05,0.0,-0.15,-0.3,-0.5,-0.55,-0.5,-0.5,-0.55,-0.75,-1.2,-1.75,-2.3,-2.8,-3.35,-3.85,-4.4,-4.85,-5.25,0.1,0.25,0.5,0.75,1.0,1.1,1.1,1.1,1.1,1.15,1.2,1.15,1.1,1.05,1.0,1.05,1.1,1.25]\n",
    "\n",
    "#extracting upper part of data for area calculation\n",
    "x0 = []\n",
    "pos = 0\n",
    "x0.append(x[0])\n",
    "\n",
    "for i in range(1,len(x)):\n",
    "    if(x[i]>x[i-1]):\n",
    "        x0.append(x[i])\n",
    "    else:\n",
    "        pos = i\n",
    "        break\n",
    "        \n",
    "y0 = y[0:pos]\n",
    "\n",
    "xval = np.linspace(min(x0),max(x0),len(x0))\n",
    "yval = scipy.interpolate.interp1d(x0,y0,kind='linear')\n",
    "\n",
    "area1 = simps(yval(xval), xval) \n",
    "\n",
    "#extracting lower part of data for area calculation\n",
    "x02 = x[pos:len(x)]\n",
    "x2 = x02[::-1]\n",
    "y02 = y[pos:len(y)]\n",
    "y2 = y02[::-1]\n",
    "val = 0\n",
    "for i in range(1,len(x2)):\n",
    "    if(x2[i-1]==x2[i]):\n",
    "        x2[i] += 0.1\n",
    "\n",
    "xval2 = np.linspace(min(x2),max(x2),len(x2))\n",
    "yval2 = scipy.interpolate.interp1d(x2,y2,kind='linear')\n",
    "\n",
    "area2 = simps(yval2(xval2), xval2)\n",
    "\n",
    "#total area\n",
    "if(area1>area2):\n",
    "    tot_area = area1-area2\n",
    "else:\n",
    "    tot_area = area1-area2\n",
    "    \n",
    "print(\"area enclosed by data points=%.3f\" %tot_area )\n",
    "\n",
    "plt.figure()\n",
    "plt.plot(xval, yval(xval), color='r',label='interpolation')\n",
    "plt.plot(xval2, yval2(xval2), color='r')\n",
    "plt.plot(x,y,'ko',label='data')\n",
    "plt.ylim(-6,3)\n",
    "plt.xlabel('x')\n",
    "plt.ylabel('y')\n",
    "plt.legend()\n",
    "plt.show()"
   ]
  },
  {
   "cell_type": "code",
   "execution_count": null,
   "metadata": {},
   "outputs": [],
   "source": []
  },
  {
   "cell_type": "code",
   "execution_count": null,
   "metadata": {},
   "outputs": [],
   "source": []
  }
 ],
 "metadata": {
  "kernelspec": {
   "display_name": "Python 3",
   "language": "python",
   "name": "python3"
  },
  "language_info": {
   "codemirror_mode": {
    "name": "ipython",
    "version": 3
   },
   "file_extension": ".py",
   "mimetype": "text/x-python",
   "name": "python",
   "nbconvert_exporter": "python",
   "pygments_lexer": "ipython3",
   "version": "3.6.4"
  }
 },
 "nbformat": 4,
 "nbformat_minor": 2
}

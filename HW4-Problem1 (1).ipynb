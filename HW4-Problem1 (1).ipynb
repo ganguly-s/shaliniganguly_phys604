{
 "cells": [
  {
   "cell_type": "code",
   "execution_count": 1,
   "metadata": {},
   "outputs": [
    {
     "name": "stdout",
     "output_type": "stream",
     "text": [
      "[2.      3.00005]\n"
     ]
    }
   ],
   "source": [
    "import matplotlib.pyplot as plt\n",
    "import numpy as np\n",
    "\n",
    "x=[1.,1.]\n",
    "eps = 1.e-8\n",
    "dx=1.e-6\n",
    "nmax=100\n",
    "deriv = [[0 for i in range(2)] for j in range(2)]\n",
    "f = [0 for i in range(2)]\n",
    "\n",
    "def F(x,f):\n",
    "    f[0]=x[0]*x[0]+x[0]*x[1]-10.\n",
    "    f[1]=x[1]+3.*x[0]*x[1]*x[1]-57.\n",
    "\n",
    "def dFi_dXj(x, deriv):                           # Derivatives\n",
    "    h = 1e-4                                             \n",
    "    for j in range(2):\n",
    "         temp = x[j]\n",
    "         x[j] = x[j] +  h/2.\n",
    "         F(x, f)                                                 \n",
    "         for i in range(2):  \n",
    "             deriv[i][j] = f[i] \n",
    "         x[j] = temp\n",
    "    for j in range(2):\n",
    "         temp = x[j]\n",
    "         x[j] = x[j] - h/2.\n",
    "         F(x, f)\n",
    "         for i in range(2): \n",
    "             deriv[i][j] = (deriv[i][j] - f[i])/h\n",
    "         x[j] = temp\n",
    "        \n",
    "def newtonraphson(x0,dx, Nmax, eps):\n",
    "    for i in range(0,Nmax):\n",
    "        F(x0,f)\n",
    "        dFi_dXj(x0,deriv)\n",
    "        dxf = np.dot(np.linalg.inv(deriv),np.transpose(f))\n",
    "        x0 = x0 - dxf\n",
    "        F(x0,f)\n",
    "        if(abs(f[0])<eps) and (abs(f[1])<eps):\n",
    "            print(\"Root is at\",x0,\" after \",i,\" iterations, with a precision of \",abs(f))\n",
    "            break\n",
    "    return x0\n",
    "\n",
    "root = newtonraphson(x,dx,nmax,eps)\n",
    "print(root)"
   ]
  },
  {
   "cell_type": "code",
   "execution_count": 2,
   "metadata": {},
   "outputs": [
    {
     "data": {
      "image/png": "[encoded data removed]",
      "text/plain": [
       "<matplotlib.figure.Figure at 0x108c31e10>"
      ]
     },
     "metadata": {},
     "output_type": "display_data"
    }
   ],
   "source": [
    "def f1(x):\n",
    "    return (10.-x*x)/x\n",
    "\n",
    "def f2(x):\n",
    "    return (-1+np.sqrt(1.+4.*3.*x*57))/6./x\n",
    "\n",
    "x=np.linspace(0.01,3,100)\n",
    "plt.plot(x,f1(x))\n",
    "plt.plot(x,f2(x))\n",
    "plt.ylim(0,10)\n",
    "plt.xlabel(r'$x_1$')\n",
    "plt.ylabel(r'$x_2$')\n",
    "plt.show()"
   ]
  },
  {
   "cell_type": "code",
   "execution_count": null,
   "metadata": {},
   "outputs": [],
   "source": []
  }
 ],
 "metadata": {
  "kernelspec": {
   "display_name": "Python 3",
   "language": "python",
   "name": "python3"
  },
  "language_info": {
   "codemirror_mode": {
    "name": "ipython",
    "version": 3
   },
   "file_extension": ".py",
   "mimetype": "text/x-python",
   "name": "python",
   "nbconvert_exporter": "python",
   "pygments_lexer": "ipython3",
   "version": "3.6.3"
  }
 },
 "nbformat": 4,
 "nbformat_minor": 2
}
